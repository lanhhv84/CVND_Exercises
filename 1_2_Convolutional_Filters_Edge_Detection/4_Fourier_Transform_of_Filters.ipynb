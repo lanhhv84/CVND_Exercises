{
  "nbformat": 4,
  "nbformat_minor": 0,
  "metadata": {
    "colab": {
      "name": "4. Fourier Transform of Filters.ipynb",
      "version": "0.3.2",
      "provenance": [],
      "collapsed_sections": [],
      "include_colab_link": true
    },
    "language_info": {
      "codemirror_mode": {
        "name": "ipython",
        "version": 3
      },
      "file_extension": ".py",
      "mimetype": "text/x-python",
      "name": "python",
      "nbconvert_exporter": "python",
      "pygments_lexer": "ipython3",
      "version": "3.5.2"
    },
    "kernelspec": {
      "display_name": "Python [conda env:cvnd_1]",
      "language": "python",
      "name": "conda-env-cvnd_1-py"
    }
  },
  "cells": [
    {
      "cell_type": "markdown",
      "metadata": {
        "id": "view-in-github",
        "colab_type": "text"
      },
      "source": [
        "<a href=\"https://colab.research.google.com/github/lanhhv84/CVND_Exercises/blob/master/1_2_Convolutional_Filters_Edge_Detection/4_Fourier_Transform_of_Filters.ipynb\" target=\"_parent\"><img src=\"https://colab.research.google.com/assets/colab-badge.svg\" alt=\"Open In Colab\"/></a>"
      ]
    },
    {
      "cell_type": "markdown",
      "metadata": {
        "id": "llFS5iDPmD02",
        "colab_type": "text"
      },
      "source": [
        "## Colab"
      ]
    },
    {
      "cell_type": "code",
      "metadata": {
        "id": "BZIKk9JwmGlf",
        "colab_type": "code",
        "colab": {}
      },
      "source": [
        "# Run this cell to mount your Google Drive.\n",
        "from google.colab import drive\n",
        "drive.mount('/content/drive')\n",
        "!cp -a '/content/drive/My Drive/DS/CV/CVND_Exercises/1_2_Convolutional_Filters_Edge_Detection/.' /content"
      ],
      "execution_count": 0,
      "outputs": []
    },
    {
      "cell_type": "markdown",
      "metadata": {
        "id": "86rCaw83mAec",
        "colab_type": "text"
      },
      "source": [
        "## High and Low Pass Filters\n",
        "\n",
        "Now, you might be wondering, what makes filters high and low-pass; why is a Sobel filter high-pass and a Gaussian filter low-pass?\n",
        "\n",
        "Well, you can actually visualize the frequencies that these filters block out by taking a look at their fourier transforms. The frequency components of any image can be displayed after doing a Fourier Transform (FT). An FT looks at the components of an image (edges that are high-frequency, and areas of smooth color as low-frequency), and plots the frequencies that occur as points in spectrum. So, let's treat our filters as small images, and display them in the frequency domain!"
      ]
    },
    {
      "cell_type": "code",
      "metadata": {
        "id": "PBqfrCRcmAed",
        "colab_type": "code",
        "colab": {
          "base_uri": "https://localhost:8080/",
          "height": 268
        },
        "outputId": "9c6ffe0e-9981-4c16-efab-2363c70f3547"
      },
      "source": [
        "import numpy as np\n",
        "import matplotlib.pyplot as plt\n",
        "import cv2\n",
        "\n",
        "%matplotlib inline\n",
        "\n",
        "# Define gaussian, sobel, and laplacian (edge) filters\n",
        "\n",
        "gaussian = (1/9)*np.array([[1, 1, 1],\n",
        "                           [1, 1, 1],\n",
        "                           [1, 1, 1]])\n",
        "\n",
        "sobel_x= np.array([[-1, 0, 1],\n",
        "                   [-2, 0, 2],\n",
        "                   [-1, 0, 1]])\n",
        "\n",
        "sobel_y= np.array([[-1,-2,-1],\n",
        "                   [0, 0, 0],\n",
        "                   [1, 2, 1]])\n",
        "\n",
        "# laplacian, edge filter\n",
        "laplacian=np.array([[0, 1, 0],\n",
        "                    [1,-4, 1],\n",
        "                    [0, 1, 0]])\n",
        "\n",
        "filters = [gaussian, sobel_x, sobel_y, laplacian]\n",
        "filter_name = ['gaussian','sobel_x', \\\n",
        "                'sobel_y', 'laplacian']\n",
        "\n",
        "\n",
        "# perform a fast fourier transform on each filter\n",
        "# and create a scaled, frequency transform image\n",
        "f_filters = [np.fft.fft2(x) for x in filters]\n",
        "fshift = [np.fft.fftshift(y) for y in f_filters]\n",
        "frequency_tx = [np.log(np.abs(z)+1) for z in fshift]\n",
        "\n",
        "# display 4 filters\n",
        "for i in range(len(filters)):\n",
        "    plt.subplot(2,2,i+1),plt.imshow(frequency_tx[i],cmap = 'gray')\n",
        "    plt.title(filter_name[i]), plt.xticks([]), plt.yticks([])\n",
        "\n",
        "plt.show()"
      ],
      "execution_count": 1,
      "outputs": [
        {
          "output_type": "display_data",
          "data": {
            "image/png": "[encoded data removed]",
            "text/plain": [
              "<Figure size 432x288 with 4 Axes>"
            ]
          },
          "metadata": {
            "tags": []
          }
        }
      ]
    },
    {
      "cell_type": "markdown",
      "metadata": {
        "id": "ZFCaGT26mAef",
        "colab_type": "text"
      },
      "source": [
        "Areas of white or light gray, allow that part of the frequency spectrum through! Areas of black mean that part of the spectrum is blocked out of the image. \n",
        "\n",
        "Recall that the low frequencies in the frequency spectrum are at the center of the frequency transform image, and high frequencies are at the edges. You should see that the Gaussian filter allows only low-pass frequencies through, which is the center of the frequency transformed image. The sobel filters block out frequencies of a certain orientation and a laplace (detects edges regardless of orientation) filter, should block out low-frequencies!\n",
        "\n",
        "You are encouraged to load in an image, apply a filter to it using `filter2d` then visualize what the fourier transform of that image looks like before and after a filter is applied."
      ]
    },
    {
      "cell_type": "code",
      "metadata": {
        "id": "3O2iKD0mmAeg",
        "colab_type": "code",
        "colab": {}
      },
      "source": [
        "## TODO: load in an image, and filter it using a kernel of your choice\n",
        "## apply a fourier transform to the original *and* filtered images and compare them\n"
      ],
      "execution_count": 0,
      "outputs": []
    }
  ]
}