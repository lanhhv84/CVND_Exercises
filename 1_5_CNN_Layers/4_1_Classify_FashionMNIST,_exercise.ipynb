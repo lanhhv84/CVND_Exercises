{
  "nbformat": 4,
  "nbformat_minor": 0,
  "metadata": {
    "colab": {
      "name": "4_1. Classify FashionMNIST, exercise.ipynb",
      "version": "0.3.2",
      "provenance": [],
      "collapsed_sections": [],
      "include_colab_link": true
    },
    "language_info": {
      "codemirror_mode": {
        "name": "ipython",
        "version": 3
      },
      "file_extension": ".py",
      "mimetype": "text/x-python",
      "name": "python",
      "nbconvert_exporter": "python",
      "pygments_lexer": "ipython3",
      "version": "3.5.2"
    },
    "kernelspec": {
      "name": "python3",
      "display_name": "Python 3"
    },
    "accelerator": "GPU"
  },
  "cells": [
    {
      "cell_type": "markdown",
      "metadata": {
        "id": "view-in-github",
        "colab_type": "text"
      },
      "source": [
        "<a href=\"https://colab.research.google.com/github/lanhhv84/CVND_Exercises/blob/master/1_5_CNN_Layers/4_1_Classify_FashionMNIST%2C_exercise.ipynb\" target=\"_parent\"><img src=\"https://colab.research.google.com/assets/colab-badge.svg\" alt=\"Open In Colab\"/></a>"
      ]
    },
    {
      "cell_type": "markdown",
      "metadata": {
        "id": "bnJRVdh0LV6C",
        "colab_type": "text"
      },
      "source": [
        "# CNN for Classification\n",
        "---\n",
        "In this notebook, we define **and train** an CNN to classify images from the [Fashion-MNIST database](https://github.com/zalandoresearch/fashion-mnist)."
      ]
    },
    {
      "cell_type": "markdown",
      "metadata": {
        "id": "1c6sPgtOLXJX",
        "colab_type": "text"
      },
      "source": [
        "### Colab"
      ]
    },
    {
      "cell_type": "code",
      "metadata": {
        "id": "4gwf7s0CLY7f",
        "colab_type": "code",
        "colab": {}
      },
      "source": [
        "# Run this cell to mount your Google Drive.\n",
        "from google.colab import drive\n",
        "drive.mount('/content/drive')\n",
        "!cp -a '/content/drive/My Drive/DS/CV/CVND_Exercises/1_5_CNN_Layers/.' /content"
      ],
      "execution_count": 0,
      "outputs": []
    },
    {
      "cell_type": "markdown",
      "metadata": {
        "id": "cU8wMrFbLV6D",
        "colab_type": "text"
      },
      "source": [
        "### Load the [data](http://pytorch.org/docs/master/torchvision/datasets.html)\n",
        "\n",
        "In this cell, we load in both **training and test** datasets from the FashionMNIST class."
      ]
    },
    {
      "cell_type": "code",
      "metadata": {
        "id": "_L5rgWxYLV6D",
        "colab_type": "code",
        "colab": {
          "base_uri": "https://localhost:8080/",
          "height": 51
        },
        "outputId": "3437edd3-f361-40a3-a59a-3d8f957f89b4"
      },
      "source": [
        "# our basic libraries\n",
        "import torch\n",
        "import torchvision\n",
        "\n",
        "# data loading and transforming\n",
        "from torchvision.datasets import FashionMNIST\n",
        "from torch.utils.data import DataLoader\n",
        "from torchvision import transforms\n",
        "\n",
        "# The output of torchvision datasets are PILImage images of range [0, 1]. \n",
        "# We transform them to Tensors for input into a CNN\n",
        "\n",
        "## Define a transform to read the data in as a tensor\n",
        "data_transform = transforms.ToTensor()\n",
        "\n",
        "# choose the training and test datasets\n",
        "train_data = FashionMNIST(root='./data', train=True,\n",
        "                                   download=True, transform=data_transform)\n",
        "\n",
        "test_data = FashionMNIST(root='./data', train=False,\n",
        "                                  download=True, transform=data_transform)\n",
        "\n",
        "\n",
        "# Print out some stats about the training and test data\n",
        "print('Train data, number of images: ', len(train_data))\n",
        "print('Test data, number of images: ', len(test_data))"
      ],
      "execution_count": 54,
      "outputs": [
        {
          "output_type": "stream",
          "text": [
            "Train data, number of images:  60000\n",
            "Test data, number of images:  10000\n"
          ],
          "name": "stdout"
        }
      ]
    },
    {
      "cell_type": "code",
      "metadata": {
        "id": "37A_UmGhLV6F",
        "colab_type": "code",
        "colab": {}
      },
      "source": [
        "# prepare data loaders, set the batch_size\n",
        "## TODO: you can try changing the batch_size to be larger or smaller\n",
        "## when you get to training your network, see how batch_size affects the loss\n",
        "batch_size = 20\n",
        "device = torch.device(\"cuda\" if torch.cuda.is_available() else \"cpu\") # PyTorch v0.4.0\n",
        "# train_data.data = train_data.data.to(device)\n",
        "# train_data.targets = train_data.targets.to(device)\n",
        "# test_data.data = test_data.data.to(device)\n",
        "# test_data.targets = test_data.targets.to(device)\n",
        "train_loader = DataLoader(train_data, batch_size=batch_size, shuffle=True)\n",
        "test_loader = DataLoader(test_data, batch_size=batch_size, shuffle=True)\n",
        "\n",
        "# specify the image classes\n",
        "classes = ['T-shirt/top', 'Trouser', 'Pullover', 'Dress', 'Coat', \n",
        "           'Sandal', 'Shirt', 'Sneaker', 'Bag', 'Ankle boot']"
      ],
      "execution_count": 0,
      "outputs": []
    },
    {
      "cell_type": "markdown",
      "metadata": {
        "id": "m087pL4jLV6J",
        "colab_type": "text"
      },
      "source": [
        "### Visualize some training data\n",
        "\n",
        "This cell iterates over the training dataset, loading a random batch of image/label data, using `dataiter.next()`. It then plots the batch of images and labels in a `2 x batch_size/2` grid."
      ]
    },
    {
      "cell_type": "code",
      "metadata": {
        "id": "CP3WT5MLLV6J",
        "colab_type": "code",
        "colab": {
          "base_uri": "https://localhost:8080/",
          "height": 288
        },
        "outputId": "e126f87e-7415-4c2e-df82-275f4df2c631"
      },
      "source": [
        "import numpy as np\n",
        "import matplotlib.pyplot as plt\n",
        "\n",
        "%matplotlib inline\n",
        "    \n",
        "# obtain one batch of training images\n",
        "\n",
        "for images, labels in train_loader:\n",
        "    break\n",
        "images = images.numpy()\n",
        "\n",
        "# plot the images in the batch, along with the corresponding labels\n",
        "fig = plt.figure(figsize=(25, 4))\n",
        "for idx in np.arange(batch_size):\n",
        "    ax = fig.add_subplot(2, batch_size/2, idx+1, xticks=[], yticks=[])\n",
        "    ax.imshow(np.squeeze(images[idx]), cmap='gray')\n",
        "    ax.set_title(classes[labels[idx]])"
      ],
      "execution_count": 56,
      "outputs": [
        {
          "output_type": "display_data",
          "data": {
            "image/png": "[encoded data removed]",
            "text/plain": [
              "<Figure size 1800x288 with 20 Axes>"
            ]
          },
          "metadata": {
            "tags": []
          }
        }
      ]
    },
    {
      "cell_type": "markdown",
      "metadata": {
        "id": "jrkdSDLJLV6L",
        "colab_type": "text"
      },
      "source": [
        "### Define the network architecture\n",
        "\n",
        "The various layers that make up any neural network are documented, [here](http://pytorch.org/docs/master/nn.html). For a convolutional neural network, we'll use a simple series of layers:\n",
        "* Convolutional layers\n",
        "* Maxpooling layers\n",
        "* Fully-connected (linear) layers\n",
        "\n",
        "You are also encouraged to look at adding [dropout layers](http://pytorch.org/docs/stable/nn.html#dropout) to avoid overfitting this data.\n",
        "\n",
        "---\n",
        "\n",
        "To define a neural network in PyTorch, you define the layers of a model in the function `__init__` and define the feedforward behavior of a network that employs those initialized layers in the function `forward`, which takes in an input image tensor, `x`. The structure of this Net class is shown below and left for you to fill in.\n",
        "\n",
        "Note: During training, PyTorch will be able to perform backpropagation by keeping track of the network's feedforward behavior and using autograd to calculate the update to the weights in the network.\n",
        "\n",
        "#### Define the Layers in ` __init__`\n",
        "As a reminder, a conv/pool layer may be defined like this (in `__init__`):\n",
        "```\n",
        "# 1 input image channel (for grayscale images), 32 output channels/feature maps, 3x3 square convolution kernel\n",
        "self.conv1 = nn.Conv2d(1, 32, 3)\n",
        "\n",
        "# maxpool that uses a square window of kernel_size=2, stride=2\n",
        "self.pool = nn.MaxPool2d(2, 2)      \n",
        "```\n",
        "\n",
        "#### Refer to Layers in `forward`\n",
        "Then referred to in the `forward` function like this, in which the conv1 layer has a ReLu activation applied to it before maxpooling is applied:\n",
        "```\n",
        "x = self.pool(F.relu(self.conv1(x)))\n",
        "```\n",
        "\n",
        "You must place any layers with trainable weights, such as convolutional layers, in the `__init__` function and refer to them in the `forward` function; any layers or functions that always behave in the same way, such as a pre-defined activation function, may appear *only* in the `forward` function. In practice, you'll often see conv/pool layers defined in `__init__` and activations defined in `forward`.\n",
        "\n",
        "#### Convolutional layer\n",
        "The first convolution layer has been defined for you, it takes in a 1 channel (grayscale) image and outputs 10 feature maps as output, after convolving the image with 3x3 filters.\n",
        "\n",
        "#### Flattening\n",
        "\n",
        "Recall that to move from the output of a convolutional/pooling layer to a linear layer, you must first flatten your extracted features into a vector. If you've used the deep learning library, Keras, you may have seen this done by `Flatten()`, and in PyTorch you can flatten an input `x` with `x = x.view(x.size(0), -1)`.\n",
        "\n",
        "### TODO: Define the rest of the layers\n",
        "\n",
        "It will be up to you to define the other layers in this network; we have some recommendations, but you may change the architecture and parameters as you see fit.\n",
        "\n",
        "Recommendations/tips:\n",
        "* Use at least two convolutional layers\n",
        "* Your output must be a linear layer with 10 outputs (for the 10 classes of clothing)\n",
        "* Use a dropout layer to avoid overfitting"
      ]
    },
    {
      "cell_type": "code",
      "metadata": {
        "id": "nmY_1DV3Rco9",
        "colab_type": "code",
        "colab": {
          "base_uri": "https://localhost:8080/",
          "height": 34
        },
        "outputId": "b228643c-ab01-40e1-f42a-12ee04ab2d5d"
      },
      "source": [
        "!pip install torchsummary"
      ],
      "execution_count": 22,
      "outputs": [
        {
          "output_type": "stream",
          "text": [
            "Requirement already satisfied: torchsummary in /usr/local/lib/python3.6/dist-packages (1.5.1)\n"
          ],
          "name": "stdout"
        }
      ]
    },
    {
      "cell_type": "code",
      "metadata": {
        "id": "dD4XBk-ZLV6M",
        "colab_type": "code",
        "colab": {
          "base_uri": "https://localhost:8080/",
          "height": 170
        },
        "outputId": "da1d9c70-a6a8-4198-d202-ee94a6055521"
      },
      "source": [
        "import torch.nn as nn\n",
        "import torch.nn.functional as F\n",
        "from torchsummary import summary\n",
        "\n",
        "class Net(nn.Module):\n",
        "\n",
        "    def __init__(self):\n",
        "        super(Net, self).__init__()\n",
        "        \n",
        "        # 1 input image channel (grayscale), 10 output channels/feature maps\n",
        "        # 3x3 square convolution kernel\n",
        "        # Input (28, 28)\n",
        "        # ((W-F+2*P )/S)+1\n",
        "        self.conv1 = nn.Conv2d(1, 10, 3) # => (26, 26, 10) 28-3 / 1 + 1 = 26\n",
        "        self.pool1 = nn.MaxPool2d(2, 2) # => (13, 13, 10) \n",
        "        self.conv2 = nn.Conv2d(10, 16, 3) # => (11, 11, 16) \n",
        "        self.pool2 = nn.MaxPool2d(2, 2) # => (5, 5, 16)\n",
        "        self.conv3 = nn.Conv2d(16, 32, 3) # => (3, 3, 32)\n",
        "        self.pool3 = nn.MaxPool2d(2, 2) # => (1, 1, 32)\n",
        "#         self.conv4 = nn.Conv2d(32, 64, 2) # => (1, 1, 64)\n",
        "        self.dense = nn.Linear(32, 20)\n",
        "        \n",
        "        \n",
        "        ## TODO: Define the rest of the layers:\n",
        "        # include another conv layer, maxpooling layers, and linear layers\n",
        "        # also consider adding a dropout layer to avoid overfitting\n",
        "        \n",
        "\n",
        "    ## TODO: define the feedforward behavior\n",
        "    def forward(self, x):\n",
        "        # one activated conv layer\n",
        "        x = F.relu(self.conv1(x))\n",
        "        x = self.pool1(x)\n",
        "        x = F.relu(self.conv2(x))\n",
        "        x = self.pool2(x)\n",
        "        x = F.relu(self.conv3(x))\n",
        "        x = self.pool3(x)\n",
        "#          x = F.relu(self.conv4(x))\n",
        "        x = x.view((-1, 32))\n",
        "        x = F.softmax(self.dense(x))\n",
        "        \n",
        "        \n",
        "        # final output\n",
        "        return x\n",
        "\n",
        "# instantiate and print your Net\n",
        "net = Net()\n",
        "\n",
        "model = net.to(device)\n",
        "print(net)"
      ],
      "execution_count": 65,
      "outputs": [
        {
          "output_type": "stream",
          "text": [
            "Net(\n",
            "  (conv1): Conv2d(1, 10, kernel_size=(3, 3), stride=(1, 1))\n",
            "  (pool1): MaxPool2d(kernel_size=2, stride=2, padding=0, dilation=1, ceil_mode=False)\n",
            "  (conv2): Conv2d(10, 16, kernel_size=(3, 3), stride=(1, 1))\n",
            "  (pool2): MaxPool2d(kernel_size=2, stride=2, padding=0, dilation=1, ceil_mode=False)\n",
            "  (conv3): Conv2d(16, 32, kernel_size=(3, 3), stride=(1, 1))\n",
            "  (pool3): MaxPool2d(kernel_size=2, stride=2, padding=0, dilation=1, ceil_mode=False)\n",
            "  (dense): Linear(in_features=32, out_features=20, bias=True)\n",
            ")\n"
          ],
          "name": "stdout"
        }
      ]
    },
    {
      "cell_type": "code",
      "metadata": {
        "id": "eQUOnfgwRiZ9",
        "colab_type": "code",
        "colab": {
          "base_uri": "https://localhost:8080/",
          "height": 394
        },
        "outputId": "9288e353-8717-469f-926c-46a528b5da63"
      },
      "source": [
        "summary(net, input_size=(1, 28, 28))"
      ],
      "execution_count": 66,
      "outputs": [
        {
          "output_type": "stream",
          "text": [
            "----------------------------------------------------------------\n",
            "        Layer (type)               Output Shape         Param #\n",
            "================================================================\n",
            "            Conv2d-1           [-1, 10, 26, 26]             100\n",
            "         MaxPool2d-2           [-1, 10, 13, 13]               0\n",
            "            Conv2d-3           [-1, 16, 11, 11]           1,456\n",
            "         MaxPool2d-4             [-1, 16, 5, 5]               0\n",
            "            Conv2d-5             [-1, 32, 3, 3]           4,640\n",
            "         MaxPool2d-6             [-1, 32, 1, 1]               0\n",
            "            Linear-7                   [-1, 20]             660\n",
            "================================================================\n",
            "Total params: 6,856\n",
            "Trainable params: 6,856\n",
            "Non-trainable params: 0\n",
            "----------------------------------------------------------------\n",
            "Input size (MB): 0.00\n",
            "Forward/backward pass size (MB): 0.08\n",
            "Params size (MB): 0.03\n",
            "Estimated Total Size (MB): 0.11\n",
            "----------------------------------------------------------------\n"
          ],
          "name": "stdout"
        },
        {
          "output_type": "stream",
          "text": [
            "/usr/local/lib/python3.6/dist-packages/ipykernel_launcher.py:40: UserWarning: Implicit dimension choice for softmax has been deprecated. Change the call to include dim=X as an argument.\n"
          ],
          "name": "stderr"
        }
      ]
    },
    {
      "cell_type": "markdown",
      "metadata": {
        "id": "VPTvtzHqLV6N",
        "colab_type": "text"
      },
      "source": [
        "### TODO: Specify the loss function and optimizer\n",
        "\n",
        "Learn more about [loss functions](http://pytorch.org/docs/master/nn.html#loss-functions) and [optimizers](http://pytorch.org/docs/master/optim.html) in the online documentation.\n",
        "\n",
        "Note that for a classification problem like this, one typically uses cross entropy loss, which can be defined in code like: `criterion = nn.CrossEntropyLoss()`. PyTorch also includes some standard stochastic optimizers like stochastic gradient descent and Adam. You're encouraged to try different optimizers and see how your model responds to these choices as it trains.\n"
      ]
    },
    {
      "cell_type": "code",
      "metadata": {
        "id": "E4TLekGYLV6N",
        "colab_type": "code",
        "colab": {}
      },
      "source": [
        "import torch.optim as optim\n",
        "\n",
        "## TODO: specify loss function (try categorical cross-entropy)\n",
        "criterion = nn.modules.loss.CrossEntropyLoss()\n",
        "\n",
        "## TODO: specify optimizer \n",
        "optimizer = optim.Adam(net.parameters())"
      ],
      "execution_count": 0,
      "outputs": []
    },
    {
      "cell_type": "markdown",
      "metadata": {
        "id": "o8iY42DJLV6Q",
        "colab_type": "text"
      },
      "source": [
        "### A note on accuracy\n",
        "\n",
        "It's interesting to look at the accuracy of your network **before and after** training. This way you can really see that your network has learned something. In the next cell, let's see what the accuracy of an untrained network is (we expect it to be around 10% which is the same accuracy as just guessing for all 10 classes)."
      ]
    },
    {
      "cell_type": "code",
      "metadata": {
        "id": "kzWZmHZ2LV6R",
        "colab_type": "code",
        "colab": {
          "base_uri": "https://localhost:8080/",
          "height": 71
        },
        "outputId": "007c53d8-51c7-4bba-ad91-90042d1d6397"
      },
      "source": [
        "# Calculate accuracy before training\n",
        "correct = 0\n",
        "total = 0\n",
        "\n",
        "# Iterate through test dataset\n",
        "for images, labels in test_loader:\n",
        "    images = images.to(device)\n",
        "    labels = labels.to(device)\n",
        "    # forward pass to get outputs\n",
        "    # the outputs are a series of class scores\n",
        "    outputs = net(images)\n",
        "\n",
        "    # get the predicted class from the maximum value in the output-list of class scores\n",
        "    _, predicted = torch.max(outputs.data, 1)\n",
        "\n",
        "    # count up total number of correct labels\n",
        "    # for which the predicted and true labels are equal\n",
        "    total += labels.size(0)\n",
        "    correct += (predicted == labels).sum()\n",
        "\n",
        "# calculate the accuracy\n",
        "accuracy = 100 * correct / total\n",
        "\n",
        "# print it out!\n",
        "print('Accuracy before training: ', accuracy)"
      ],
      "execution_count": 69,
      "outputs": [
        {
          "output_type": "stream",
          "text": [
            "/usr/local/lib/python3.6/dist-packages/ipykernel_launcher.py:40: UserWarning: Implicit dimension choice for softmax has been deprecated. Change the call to include dim=X as an argument.\n"
          ],
          "name": "stderr"
        },
        {
          "output_type": "stream",
          "text": [
            "Accuracy before training:  tensor(10, device='cuda:0')\n"
          ],
          "name": "stdout"
        }
      ]
    },
    {
      "cell_type": "markdown",
      "metadata": {
        "id": "krNpCm0jLV6T",
        "colab_type": "text"
      },
      "source": [
        "### Train the Network\n",
        "\n",
        "Below, we've defined a `train` function that takes in a number of epochs to train for. The number of epochs is how many times a network will cycle through the training dataset. \n",
        "\n",
        "Here are the steps that this training function performs as it iterates over the training dataset:\n",
        "\n",
        "1. Zero's the gradients to prepare for a forward pass\n",
        "2. Passes the input through the network (forward pass)\n",
        "3. Computes the loss (how far is the predicted classes are from the correct labels)\n",
        "4. Propagates gradients back into the network’s parameters (backward pass)\n",
        "5. Updates the weights (parameter update)\n",
        "6. Prints out the calculated loss\n",
        "\n"
      ]
    },
    {
      "cell_type": "code",
      "metadata": {
        "id": "zCT_Xu96LV6T",
        "colab_type": "code",
        "colab": {}
      },
      "source": [
        "def train(n_epochs):\n",
        "    \n",
        "    for epoch in range(n_epochs):  # loop over the dataset multiple times\n",
        "\n",
        "        running_loss = 0.0\n",
        "        for batch_i, data in enumerate(train_loader):\n",
        "            # get the input images and their corresponding labels\n",
        "            inputs, labels = data       \n",
        "            inputs = inputs.to(device)\n",
        "            labels = labels.to(device)\n",
        "            # zero the parameter (weight) gradients\n",
        "            optimizer.zero_grad()\n",
        "\n",
        "            # forward pass to get outputs\n",
        "            outputs = net(inputs)\n",
        "\n",
        "            # calculate the loss\n",
        "            loss = criterion(outputs, labels)\n",
        "\n",
        "            # backward pass to calculate the parameter gradients\n",
        "            loss.backward()\n",
        "\n",
        "            # update the parameters\n",
        "            optimizer.step()\n",
        "\n",
        "            # print loss statistics\n",
        "            # to convert loss into a scalar and add it to running_loss, we use .item()\n",
        "            running_loss += loss.item()\n",
        "            if batch_i % 1000 == 999:    # print every 1000 mini-batches\n",
        "                print('Epoch: {}, Batch: {}, Avg. Loss: {}'.format(epoch + 1, batch_i+1, running_loss/1000))\n",
        "                running_loss = 0.0\n",
        "\n",
        "    print('Finished Training')\n"
      ],
      "execution_count": 0,
      "outputs": []
    },
    {
      "cell_type": "code",
      "metadata": {
        "id": "es-po9bGLV6V",
        "colab_type": "code",
        "colab": {
          "base_uri": "https://localhost:8080/",
          "height": 341
        },
        "outputId": "88c106d4-9b07-4e0a-9b02-4267836f10d1"
      },
      "source": [
        "# define the number of epochs to train for\n",
        "n_epochs = 10 # start small to see if your model works, initially\n",
        "\n",
        "# call train\n",
        "train(n_epochs)"
      ],
      "execution_count": 112,
      "outputs": [
        {
          "output_type": "error",
          "ename": "RuntimeError",
          "evalue": "ignored",
          "traceback": [
            "\u001b[0;31m---------------------------------------------------------------------------\u001b[0m",
            "\u001b[0;31mRuntimeError\u001b[0m                              Traceback (most recent call last)",
            "\u001b[0;32m<ipython-input-112-877a79461865>\u001b[0m in \u001b[0;36m<module>\u001b[0;34m()\u001b[0m\n\u001b[1;32m      2\u001b[0m \u001b[0;34m\u001b[0m\u001b[0m\n\u001b[1;32m      3\u001b[0m \u001b[0;31m# call train\u001b[0m\u001b[0;34m\u001b[0m\u001b[0;34m\u001b[0m\u001b[0;34m\u001b[0m\u001b[0m\n\u001b[0;32m----> 4\u001b[0;31m \u001b[0mtrain\u001b[0m\u001b[0;34m(\u001b[0m\u001b[0mn_epochs\u001b[0m\u001b[0;34m)\u001b[0m\u001b[0;34m\u001b[0m\u001b[0;34m\u001b[0m\u001b[0m\n\u001b[0m",
            "\u001b[0;32m<ipython-input-72-f2abafd4d2e8>\u001b[0m in \u001b[0;36mtrain\u001b[0;34m(n_epochs)\u001b[0m\n\u001b[1;32m     13\u001b[0m \u001b[0;34m\u001b[0m\u001b[0m\n\u001b[1;32m     14\u001b[0m             \u001b[0;31m# forward pass to get outputs\u001b[0m\u001b[0;34m\u001b[0m\u001b[0;34m\u001b[0m\u001b[0;34m\u001b[0m\u001b[0m\n\u001b[0;32m---> 15\u001b[0;31m             \u001b[0moutputs\u001b[0m \u001b[0;34m=\u001b[0m \u001b[0mnet\u001b[0m\u001b[0;34m(\u001b[0m\u001b[0minputs\u001b[0m\u001b[0;34m)\u001b[0m\u001b[0;34m\u001b[0m\u001b[0;34m\u001b[0m\u001b[0m\n\u001b[0m\u001b[1;32m     16\u001b[0m \u001b[0;34m\u001b[0m\u001b[0m\n\u001b[1;32m     17\u001b[0m             \u001b[0;31m# calculate the loss\u001b[0m\u001b[0;34m\u001b[0m\u001b[0;34m\u001b[0m\u001b[0;34m\u001b[0m\u001b[0m\n",
            "\u001b[0;32m/usr/local/lib/python3.6/dist-packages/torch/nn/modules/module.py\u001b[0m in \u001b[0;36m__call__\u001b[0;34m(self, *input, **kwargs)\u001b[0m\n\u001b[1;32m    491\u001b[0m             \u001b[0mresult\u001b[0m \u001b[0;34m=\u001b[0m \u001b[0mself\u001b[0m\u001b[0;34m.\u001b[0m\u001b[0m_slow_forward\u001b[0m\u001b[0;34m(\u001b[0m\u001b[0;34m*\u001b[0m\u001b[0minput\u001b[0m\u001b[0;34m,\u001b[0m \u001b[0;34m**\u001b[0m\u001b[0mkwargs\u001b[0m\u001b[0;34m)\u001b[0m\u001b[0;34m\u001b[0m\u001b[0;34m\u001b[0m\u001b[0m\n\u001b[1;32m    492\u001b[0m         \u001b[0;32melse\u001b[0m\u001b[0;34m:\u001b[0m\u001b[0;34m\u001b[0m\u001b[0;34m\u001b[0m\u001b[0m\n\u001b[0;32m--> 493\u001b[0;31m             \u001b[0mresult\u001b[0m \u001b[0;34m=\u001b[0m \u001b[0mself\u001b[0m\u001b[0;34m.\u001b[0m\u001b[0mforward\u001b[0m\u001b[0;34m(\u001b[0m\u001b[0;34m*\u001b[0m\u001b[0minput\u001b[0m\u001b[0;34m,\u001b[0m \u001b[0;34m**\u001b[0m\u001b[0mkwargs\u001b[0m\u001b[0;34m)\u001b[0m\u001b[0;34m\u001b[0m\u001b[0;34m\u001b[0m\u001b[0m\n\u001b[0m\u001b[1;32m    494\u001b[0m         \u001b[0;32mfor\u001b[0m \u001b[0mhook\u001b[0m \u001b[0;32min\u001b[0m \u001b[0mself\u001b[0m\u001b[0;34m.\u001b[0m\u001b[0m_forward_hooks\u001b[0m\u001b[0;34m.\u001b[0m\u001b[0mvalues\u001b[0m\u001b[0;34m(\u001b[0m\u001b[0;34m)\u001b[0m\u001b[0;34m:\u001b[0m\u001b[0;34m\u001b[0m\u001b[0;34m\u001b[0m\u001b[0m\n\u001b[1;32m    495\u001b[0m             \u001b[0mhook_result\u001b[0m \u001b[0;34m=\u001b[0m \u001b[0mhook\u001b[0m\u001b[0;34m(\u001b[0m\u001b[0mself\u001b[0m\u001b[0;34m,\u001b[0m \u001b[0minput\u001b[0m\u001b[0;34m,\u001b[0m \u001b[0mresult\u001b[0m\u001b[0;34m)\u001b[0m\u001b[0;34m\u001b[0m\u001b[0;34m\u001b[0m\u001b[0m\n",
            "\u001b[0;32m<ipython-input-65-e1a30a778707>\u001b[0m in \u001b[0;36mforward\u001b[0;34m(self, x)\u001b[0m\n\u001b[1;32m     30\u001b[0m     \u001b[0;32mdef\u001b[0m \u001b[0mforward\u001b[0m\u001b[0;34m(\u001b[0m\u001b[0mself\u001b[0m\u001b[0;34m,\u001b[0m \u001b[0mx\u001b[0m\u001b[0;34m)\u001b[0m\u001b[0;34m:\u001b[0m\u001b[0;34m\u001b[0m\u001b[0;34m\u001b[0m\u001b[0m\n\u001b[1;32m     31\u001b[0m         \u001b[0;31m# one activated conv layer\u001b[0m\u001b[0;34m\u001b[0m\u001b[0;34m\u001b[0m\u001b[0;34m\u001b[0m\u001b[0m\n\u001b[0;32m---> 32\u001b[0;31m         \u001b[0mx\u001b[0m \u001b[0;34m=\u001b[0m \u001b[0mF\u001b[0m\u001b[0;34m.\u001b[0m\u001b[0mrelu\u001b[0m\u001b[0;34m(\u001b[0m\u001b[0mself\u001b[0m\u001b[0;34m.\u001b[0m\u001b[0mconv1\u001b[0m\u001b[0;34m(\u001b[0m\u001b[0mx\u001b[0m\u001b[0;34m)\u001b[0m\u001b[0;34m)\u001b[0m\u001b[0;34m\u001b[0m\u001b[0;34m\u001b[0m\u001b[0m\n\u001b[0m\u001b[1;32m     33\u001b[0m         \u001b[0mx\u001b[0m \u001b[0;34m=\u001b[0m \u001b[0mself\u001b[0m\u001b[0;34m.\u001b[0m\u001b[0mpool1\u001b[0m\u001b[0;34m(\u001b[0m\u001b[0mx\u001b[0m\u001b[0;34m)\u001b[0m\u001b[0;34m\u001b[0m\u001b[0;34m\u001b[0m\u001b[0m\n\u001b[1;32m     34\u001b[0m         \u001b[0mx\u001b[0m \u001b[0;34m=\u001b[0m \u001b[0mF\u001b[0m\u001b[0;34m.\u001b[0m\u001b[0mrelu\u001b[0m\u001b[0;34m(\u001b[0m\u001b[0mself\u001b[0m\u001b[0;34m.\u001b[0m\u001b[0mconv2\u001b[0m\u001b[0;34m(\u001b[0m\u001b[0mx\u001b[0m\u001b[0;34m)\u001b[0m\u001b[0;34m)\u001b[0m\u001b[0;34m\u001b[0m\u001b[0;34m\u001b[0m\u001b[0m\n",
            "\u001b[0;32m/usr/local/lib/python3.6/dist-packages/torch/nn/modules/module.py\u001b[0m in \u001b[0;36m__call__\u001b[0;34m(self, *input, **kwargs)\u001b[0m\n\u001b[1;32m    491\u001b[0m             \u001b[0mresult\u001b[0m \u001b[0;34m=\u001b[0m \u001b[0mself\u001b[0m\u001b[0;34m.\u001b[0m\u001b[0m_slow_forward\u001b[0m\u001b[0;34m(\u001b[0m\u001b[0;34m*\u001b[0m\u001b[0minput\u001b[0m\u001b[0;34m,\u001b[0m \u001b[0;34m**\u001b[0m\u001b[0mkwargs\u001b[0m\u001b[0;34m)\u001b[0m\u001b[0;34m\u001b[0m\u001b[0;34m\u001b[0m\u001b[0m\n\u001b[1;32m    492\u001b[0m         \u001b[0;32melse\u001b[0m\u001b[0;34m:\u001b[0m\u001b[0;34m\u001b[0m\u001b[0;34m\u001b[0m\u001b[0m\n\u001b[0;32m--> 493\u001b[0;31m             \u001b[0mresult\u001b[0m \u001b[0;34m=\u001b[0m \u001b[0mself\u001b[0m\u001b[0;34m.\u001b[0m\u001b[0mforward\u001b[0m\u001b[0;34m(\u001b[0m\u001b[0;34m*\u001b[0m\u001b[0minput\u001b[0m\u001b[0;34m,\u001b[0m \u001b[0;34m**\u001b[0m\u001b[0mkwargs\u001b[0m\u001b[0;34m)\u001b[0m\u001b[0;34m\u001b[0m\u001b[0;34m\u001b[0m\u001b[0m\n\u001b[0m\u001b[1;32m    494\u001b[0m         \u001b[0;32mfor\u001b[0m \u001b[0mhook\u001b[0m \u001b[0;32min\u001b[0m \u001b[0mself\u001b[0m\u001b[0;34m.\u001b[0m\u001b[0m_forward_hooks\u001b[0m\u001b[0;34m.\u001b[0m\u001b[0mvalues\u001b[0m\u001b[0;34m(\u001b[0m\u001b[0;34m)\u001b[0m\u001b[0;34m:\u001b[0m\u001b[0;34m\u001b[0m\u001b[0;34m\u001b[0m\u001b[0m\n\u001b[1;32m    495\u001b[0m             \u001b[0mhook_result\u001b[0m \u001b[0;34m=\u001b[0m \u001b[0mhook\u001b[0m\u001b[0;34m(\u001b[0m\u001b[0mself\u001b[0m\u001b[0;34m,\u001b[0m \u001b[0minput\u001b[0m\u001b[0;34m,\u001b[0m \u001b[0mresult\u001b[0m\u001b[0;34m)\u001b[0m\u001b[0;34m\u001b[0m\u001b[0;34m\u001b[0m\u001b[0m\n",
            "\u001b[0;32m/usr/local/lib/python3.6/dist-packages/torch/nn/modules/conv.py\u001b[0m in \u001b[0;36mforward\u001b[0;34m(self, input)\u001b[0m\n\u001b[1;32m    336\u001b[0m                             _pair(0), self.dilation, self.groups)\n\u001b[1;32m    337\u001b[0m         return F.conv2d(input, self.weight, self.bias, self.stride,\n\u001b[0;32m--> 338\u001b[0;31m                         self.padding, self.dilation, self.groups)\n\u001b[0m\u001b[1;32m    339\u001b[0m \u001b[0;34m\u001b[0m\u001b[0m\n\u001b[1;32m    340\u001b[0m \u001b[0;34m\u001b[0m\u001b[0m\n",
            "\u001b[0;31mRuntimeError\u001b[0m: Input type (torch.cuda.FloatTensor) and weight type (torch.FloatTensor) should be the same"
          ]
        }
      ]
    },
    {
      "cell_type": "markdown",
      "metadata": {
        "id": "0sbSq92jLV6Y",
        "colab_type": "text"
      },
      "source": [
        "### Test the Trained Network\n",
        "\n",
        "Once you are satisfied with how the loss of your model has decreased, there is one last step: test!\n",
        "\n",
        "You must test your trained model on a previously unseen dataset to see if it generalizes well and can accurately classify this new dataset. For FashionMNIST, which contains many pre-processed training images, a good model should reach **greater than 85% accuracy** on this test dataset. If you are not reaching this value, try training for a larger number of epochs, tweaking your hyperparameters, or adding/subtracting layers from your CNN."
      ]
    },
    {
      "cell_type": "code",
      "metadata": {
        "id": "PA2WEV-lLV6Y",
        "colab_type": "code",
        "colab": {}
      },
      "source": [
        "# initialize tensor and lists to monitor test loss and accuracy\n",
        "test_loss = torch.zeros(1)\n",
        "class_correct = list(0. for i in range(10))\n",
        "class_total = list(0. for i in range(10))\n",
        "\n",
        "# set the module to evaluation mode\n",
        "net.eval()\n",
        "\n",
        "for batch_i, data in enumerate(test_loader):\n",
        "    \n",
        "    # get the input images and their corresponding labels\n",
        "    inputs, labels = data[0].to(device), data[1].to(device)\n",
        "    \n",
        "    # forward pass to get outputs\n",
        "    outputs = net(inputs)\n",
        "\n",
        "    # calculate the loss\n",
        "    loss = criterion(outputs, labels)\n",
        "            \n",
        "    # update average test loss \n",
        "    test_loss = test_loss + ((torch.ones(1) / (batch_i + 1)) * (loss.data - test_loss))\n",
        "    \n",
        "    # get the predicted class from the maximum value in the output-list of class scores\n",
        "    _, predicted = torch.max(outputs.data, 1)\n",
        "    \n",
        "    # compare predictions to true label\n",
        "    correct = np.squeeze(predicted.eq(labels.data.view_as(predicted)))\n",
        "    \n",
        "    # calculate test accuracy for *each* object class\n",
        "    # we get the scalar value of correct items for a class, by calling `correct[i].item()`\n",
        "    for i in range(batch_size):\n",
        "        label = labels.data[i]\n",
        "        class_correct[label] += correct[i].item()\n",
        "        class_total[label] += 1\n",
        "\n",
        "print('Test Loss: {:.6f}\\n'.format(test_loss.numpy()[0]))\n",
        "\n",
        "for i in range(10):\n",
        "    if class_total[i] > 0:\n",
        "        print('Test Accuracy of %5s: %2d%% (%2d/%2d)' % (\n",
        "            classes[i], 100 * class_correct[i] / class_total[i],\n",
        "            np.sum(class_correct[i]), np.sum(class_total[i])))\n",
        "    else:\n",
        "        print('Test Accuracy of %5s: N/A (no training examples)' % (classes[i]))\n",
        "\n",
        "        \n",
        "print('\\nTest Accuracy (Overall): %2d%% (%2d/%2d)' % (\n",
        "    100. * np.sum(class_correct) / np.sum(class_total),\n",
        "    np.sum(class_correct), np.sum(class_total)))"
      ],
      "execution_count": 0,
      "outputs": []
    },
    {
      "cell_type": "markdown",
      "metadata": {
        "id": "5IGr8iQFLV6d",
        "colab_type": "text"
      },
      "source": [
        "### Visualize sample test results"
      ]
    },
    {
      "cell_type": "code",
      "metadata": {
        "id": "SUo01wuqLV6e",
        "colab_type": "code",
        "colab": {
          "base_uri": "https://localhost:8080/",
          "height": 305
        },
        "outputId": "0b8d65d3-040d-4451-bcf0-4144b6f85321"
      },
      "source": [
        "# obtain one batch of test images\n",
        "dataiter = iter(test_loader)\n",
        "images, labels = dataiter.next()\n",
        "images, labels = images.to(device), labels.to(device)\n",
        "# get predictions\n",
        "preds = np.squeeze(net(images).data.max(1, keepdim=True)[1].cpu().numpy())\n",
        "images = images.cpu().numpy()\n",
        "\n",
        "# plot the images in the batch, along with predicted and true labels\n",
        "fig = plt.figure(figsize=(25, 4))\n",
        "for idx in np.arange(batch_size):\n",
        "    ax = fig.add_subplot(2, batch_size/2, idx+1, xticks=[], yticks=[])\n",
        "    ax.imshow(np.squeeze(images[idx]), cmap='gray')\n",
        "    ax.set_title(\"{} ({})\".format(classes[preds[idx]], classes[labels[idx]]),\n",
        "                 color=(\"green\" if preds[idx]==labels[idx] else \"red\"))"
      ],
      "execution_count": 79,
      "outputs": [
        {
          "output_type": "stream",
          "text": [
            "/usr/local/lib/python3.6/dist-packages/ipykernel_launcher.py:40: UserWarning: Implicit dimension choice for softmax has been deprecated. Change the call to include dim=X as an argument.\n"
          ],
          "name": "stderr"
        },
        {
          "output_type": "display_data",
          "data": {
            "image/png": "[encoded data removed]",
            "text/plain": [
              "<Figure size 1800x288 with 20 Axes>"
            ]
          },
          "metadata": {
            "tags": []
          }
        }
      ]
    },
    {
      "cell_type": "markdown",
      "metadata": {
        "id": "XX624bGJLV6g",
        "colab_type": "text"
      },
      "source": [
        "### Question: What are some weaknesses of your model? (And how might you improve these in future iterations.)"
      ]
    },
    {
      "cell_type": "markdown",
      "metadata": {
        "id": "qP7Qe2toLV6g",
        "colab_type": "text"
      },
      "source": [
        "**Answer**: Double-click and write answer, here."
      ]
    },
    {
      "cell_type": "markdown",
      "metadata": {
        "collapsed": true,
        "id": "UOSP0dMqLV6h",
        "colab_type": "text"
      },
      "source": [
        "### Save Your Best Model\n",
        "\n",
        "Once you've decided on a network architecture and are satisfied with the test accuracy of your model after training, it's time to save this so that you can refer back to this model, and use it at a later data for comparison of for another classification task!"
      ]
    },
    {
      "cell_type": "code",
      "metadata": {
        "id": "NeiB3zeGLV6h",
        "colab_type": "code",
        "colab": {}
      },
      "source": [
        "## TODO: change the model_name to something uniqe for any new model\n",
        "## you wish to save, this will save it in the saved_models directory\n",
        "model_dir = 'saved_models/'\n",
        "model_name = 'model_1.pt'\n",
        "torch.save(net.state_dict(), model_dir+model_name)\n",
        "# after training, save your model parameters in the dir 'saved_models'\n",
        "# when you're ready, un-comment the line below\n",
        "# torch.save(net.state_dict(), model_dir+model_name)"
      ],
      "execution_count": 0,
      "outputs": []
    },
    {
      "cell_type": "markdown",
      "metadata": {
        "id": "tGi8Zh-zLV6j",
        "colab_type": "text"
      },
      "source": [
        "### Load a Trained, Saved Model\n",
        "\n",
        "To instantiate a trained model, you'll first instantiate a new `Net()` and then initialize it with a saved dictionary of parameters (from the save step above)."
      ]
    },
    {
      "cell_type": "code",
      "metadata": {
        "id": "rMPA0FqALV6j",
        "colab_type": "code",
        "colab": {
          "base_uri": "https://localhost:8080/",
          "height": 170
        },
        "outputId": "2157d657-41dd-4630-983c-546f72691d0a"
      },
      "source": [
        "# instantiate your Net\n",
        "# this refers to your Net class defined above\n",
        "net = Net()\n",
        "\n",
        "# load the net parameters by name\n",
        "# uncomment and write the name of a saved model\n",
        "net.load_state_dict(torch.load('saved_models/model_1.pt'))\n",
        "\n",
        "print(net)\n",
        "\n",
        "# Once you've loaded a specific model in, you can then \n",
        "# us it or further analyze it! \n",
        "# This will be especialy useful for feature visualization "
      ],
      "execution_count": 81,
      "outputs": [
        {
          "output_type": "stream",
          "text": [
            "Net(\n",
            "  (conv1): Conv2d(1, 10, kernel_size=(3, 3), stride=(1, 1))\n",
            "  (pool1): MaxPool2d(kernel_size=2, stride=2, padding=0, dilation=1, ceil_mode=False)\n",
            "  (conv2): Conv2d(10, 16, kernel_size=(3, 3), stride=(1, 1))\n",
            "  (pool2): MaxPool2d(kernel_size=2, stride=2, padding=0, dilation=1, ceil_mode=False)\n",
            "  (conv3): Conv2d(16, 32, kernel_size=(3, 3), stride=(1, 1))\n",
            "  (pool3): MaxPool2d(kernel_size=2, stride=2, padding=0, dilation=1, ceil_mode=False)\n",
            "  (dense): Linear(in_features=32, out_features=20, bias=True)\n",
            ")\n"
          ],
          "name": "stdout"
        }
      ]
    },
    {
      "cell_type": "code",
      "metadata": {
        "id": "kLEtGaqHXoJj",
        "colab_type": "code",
        "colab": {
          "base_uri": "https://localhost:8080/",
          "height": 54
        },
        "outputId": "acba7274-4ee3-4dce-8317-795d31dd6dc2"
      },
      "source": [
        "images, labels = dataiter.next()\n",
        "out = net(images)"
      ],
      "execution_count": 109,
      "outputs": [
        {
          "output_type": "stream",
          "text": [
            "/usr/local/lib/python3.6/dist-packages/ipykernel_launcher.py:40: UserWarning: Implicit dimension choice for softmax has been deprecated. Change the call to include dim=X as an argument.\n"
          ],
          "name": "stderr"
        }
      ]
    },
    {
      "cell_type": "code",
      "metadata": {
        "id": "HOh9f-iEXvqj",
        "colab_type": "code",
        "colab": {}
      },
      "source": [
        "out = torch.argmax(out, dim=1)\n",
        "out = (out == labels)\n",
        "accu = torch.sum(a).float() / a.shape[0]"
      ],
      "execution_count": 0,
      "outputs": []
    },
    {
      "cell_type": "code",
      "metadata": {
        "id": "dy5lPw1aYKY6",
        "colab_type": "code",
        "colab": {
          "base_uri": "https://localhost:8080/",
          "height": 34
        },
        "outputId": "b3b01148-be96-4674-d2da-63cd71d1ad4a"
      },
      "source": [
        "accu"
      ],
      "execution_count": 111,
      "outputs": [
        {
          "output_type": "execute_result",
          "data": {
            "text/plain": [
              "tensor(0.6500)"
            ]
          },
          "metadata": {
            "tags": []
          },
          "execution_count": 111
        }
      ]
    }
  ]
}